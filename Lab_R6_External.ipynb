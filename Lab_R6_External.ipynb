{
  "nbformat": 4,
  "nbformat_minor": 0,
  "metadata": {
    "colab": {
      "name": "Copy of Copy of Copy of R6_ExternalLab_AIML_1.ipynb",
      "provenance": []
    },
    "kernelspec": {
      "display_name": "Python 3",
      "language": "python",
      "name": "python3"
    },
    "language_info": {
      "codemirror_mode": {
        "name": "ipython",
        "version": 3
      },
      "file_extension": ".py",
      "mimetype": "text/x-python",
      "name": "python",
      "nbconvert_exporter": "python",
      "pygments_lexer": "ipython3",
      "version": "3.7.3"
    }
  },
  "cells": [
    {
      "cell_type": "markdown",
      "metadata": {
        "colab_type": "text",
        "id": "YYk8NG3yOIT9"
      },
      "source": [
        "### A MNIST-like fashion product database\n",
        "\n",
        "In this, we classify the images into respective classes given in the dataset. We use a Neural Net and a Deep Neural Net in Keras to solve this and check the accuracy scores."
      ]
    },
    {
      "cell_type": "markdown",
      "metadata": {
        "colab_type": "text",
        "id": "tFO6PuxzOIT_"
      },
      "source": [
        "### Load tensorflow"
      ]
    },
    {
      "cell_type": "code",
      "metadata": {
        "colab_type": "code",
        "id": "fqu1Kup7c1y5",
        "outputId": "f0f244dc-3c14-4055-e354-e5f249f99dc4",
        "colab": {
          "base_uri": "https://localhost:8080/",
          "height": 34
        }
      },
      "source": [
        "%tensorflow_version 2.x"
      ],
      "execution_count": 0,
      "outputs": [
        {
          "output_type": "stream",
          "text": [
            "TensorFlow 2.x selected.\n"
          ],
          "name": "stdout"
        }
      ]
    },
    {
      "cell_type": "code",
      "metadata": {
        "colab_type": "code",
        "id": "efNjNImfOIUC",
        "colab": {}
      },
      "source": [
        "import tensorflow as tf\n",
        "tf.random.set_seed(42)"
      ],
      "execution_count": 0,
      "outputs": []
    },
    {
      "cell_type": "code",
      "metadata": {
        "colab_type": "code",
        "id": "l9C4aAIGOIUH",
        "outputId": "8a41668d-cd9d-4ce5-8257-b513ab01a833",
        "colab": {
          "base_uri": "https://localhost:8080/",
          "height": 34
        }
      },
      "source": [
        "tf.__version__"
      ],
      "execution_count": 0,
      "outputs": [
        {
          "output_type": "execute_result",
          "data": {
            "text/plain": [
              "'2.1.0'"
            ]
          },
          "metadata": {
            "tags": []
          },
          "execution_count": 4
        }
      ]
    },
    {
      "cell_type": "markdown",
      "metadata": {
        "colab_type": "text",
        "id": "HcoZBStrOIUQ"
      },
      "source": [
        "### Collect Data"
      ]
    },
    {
      "cell_type": "code",
      "metadata": {
        "colab_type": "code",
        "id": "XA1WsFSeOIUS",
        "outputId": "3645b0b4-cab0-4d4d-dccf-aaad12df0f8f",
        "colab": {
          "base_uri": "https://localhost:8080/",
          "height": 34
        }
      },
      "source": [
        "import keras"
      ],
      "execution_count": 0,
      "outputs": [
        {
          "output_type": "stream",
          "text": [
            "Using TensorFlow backend.\n"
          ],
          "name": "stderr"
        }
      ]
    },
    {
      "cell_type": "code",
      "metadata": {
        "colab_type": "code",
        "id": "7jVFOyO9M6SS",
        "outputId": "ea60a229-341b-485d-e9eb-882060d9c06e",
        "colab": {
          "base_uri": "https://localhost:8080/",
          "height": 151
        }
      },
      "source": [
        "#the dataset is inbuilt in the Keras package\n",
        "(trainX, trainY), (testX, testY) = keras.datasets.fashion_mnist.load_data()"
      ],
      "execution_count": 0,
      "outputs": [
        {
          "output_type": "stream",
          "text": [
            "Downloading data from http://fashion-mnist.s3-website.eu-central-1.amazonaws.com/train-labels-idx1-ubyte.gz\n",
            "32768/29515 [=================================] - 0s 8us/step\n",
            "Downloading data from http://fashion-mnist.s3-website.eu-central-1.amazonaws.com/train-images-idx3-ubyte.gz\n",
            "26427392/26421880 [==============================] - 4s 0us/step\n",
            "Downloading data from http://fashion-mnist.s3-website.eu-central-1.amazonaws.com/t10k-labels-idx1-ubyte.gz\n",
            "8192/5148 [===============================================] - 0s 0us/step\n",
            "Downloading data from http://fashion-mnist.s3-website.eu-central-1.amazonaws.com/t10k-images-idx3-ubyte.gz\n",
            "4423680/4422102 [==============================] - 2s 0us/step\n"
          ],
          "name": "stdout"
        }
      ]
    },
    {
      "cell_type": "code",
      "metadata": {
        "colab_type": "code",
        "id": "UbiHj5YPOIUc",
        "outputId": "938037a3-623b-4837-d71c-e30bfdfe38e6",
        "colab": {
          "base_uri": "https://localhost:8080/",
          "height": 34
        }
      },
      "source": [
        "print(testY[0:5])"
      ],
      "execution_count": 0,
      "outputs": [
        {
          "output_type": "stream",
          "text": [
            "[9 2 1 1 6]\n"
          ],
          "name": "stdout"
        }
      ]
    },
    {
      "cell_type": "markdown",
      "metadata": {
        "colab_type": "text",
        "id": "lDAYzkwyOIUj"
      },
      "source": [
        "### Convert both training and testing labels into one-hot vectors.\n",
        "\n",
        "**Hint:** check **tf.keras.utils.to_categorical()**"
      ]
    },
    {
      "cell_type": "code",
      "metadata": {
        "colab_type": "code",
        "id": "vBlfYlANOIUk",
        "colab": {}
      },
      "source": [
        "trainY=tf.keras.utils.to_categorical(trainY,num_classes=10)\n",
        "testY=tf.keras.utils.to_categorical(testY,num_classes=10)"
      ],
      "execution_count": 0,
      "outputs": []
    },
    {
      "cell_type": "code",
      "metadata": {
        "colab_type": "code",
        "id": "RHV3b9mzOIUq",
        "outputId": "a55db37c-a113-40d4-954b-4ab177237e30",
        "scrolled": true,
        "colab": {
          "base_uri": "https://localhost:8080/",
          "height": 118
        }
      },
      "source": [
        "print(trainY.shape)\n",
        "print('First 5 examples now are: ', trainY[0:5])"
      ],
      "execution_count": 0,
      "outputs": [
        {
          "output_type": "stream",
          "text": [
            "(60000, 10)\n",
            "First 5 examples now are:  [[0. 0. 0. 0. 0. 0. 0. 0. 0. 1.]\n",
            " [1. 0. 0. 0. 0. 0. 0. 0. 0. 0.]\n",
            " [1. 0. 0. 0. 0. 0. 0. 0. 0. 0.]\n",
            " [0. 0. 0. 1. 0. 0. 0. 0. 0. 0.]\n",
            " [1. 0. 0. 0. 0. 0. 0. 0. 0. 0.]]\n"
          ],
          "name": "stdout"
        }
      ]
    },
    {
      "cell_type": "markdown",
      "metadata": {
        "colab_type": "text",
        "id": "FwhQ8e7VOIUw"
      },
      "source": [
        "### Visualize the data\n",
        "\n",
        "Plot first 10 images in the triaining set and their labels."
      ]
    },
    {
      "cell_type": "code",
      "metadata": {
        "id": "koAS-CyN6mp_",
        "colab_type": "code",
        "colab": {}
      },
      "source": [
        "import matplotlib.pyplot as plt\n"
      ],
      "execution_count": 0,
      "outputs": []
    },
    {
      "cell_type": "code",
      "metadata": {
        "colab_type": "code",
        "id": "Brby7UllJUpA",
        "outputId": "fa478294-5dc7-40fe-8d5d-efa4c3d8d91b",
        "colab": {
          "base_uri": "https://localhost:8080/",
          "height": 251
        }
      },
      "source": [
        "label = [9,0,0,3,0,2,7,2,5,5]\n",
        "plt.figure(figsize=(10,10))\n",
        "for i in range(10):\n",
        "    plt.subplot(5,5,i+1)\n",
        "    plt.xticks([])\n",
        "    plt.yticks([])\n",
        "    plt.grid(False)\n",
        "    plt.imshow(trainX[i], cmap=plt.cm.binary)\n",
        "    plt.xlabel(label[i])\n",
        "plt.show()"
      ],
      "execution_count": 0,
      "outputs": [
        {
          "output_type": "display_data",
          "data": {
            "image/png": "[encoded data removed]",
            "text/plain": [
              "<Figure size 720x720 with 10 Axes>"
            ]
          },
          "metadata": {
            "tags": []
          }
        }
      ]
    },
    {
      "cell_type": "markdown",
      "metadata": {
        "colab_type": "text",
        "id": "l4TbJGeSOIU4"
      },
      "source": [
        "### Build a neural Network with a cross entropy loss function and sgd optimizer in Keras. The output layer with 10 neurons as we have 10 classes."
      ]
    },
    {
      "cell_type": "code",
      "metadata": {
        "colab_type": "code",
        "id": "Ac06XZZTOIU6",
        "colab": {}
      },
      "source": [
        "model = tf.keras.models.Sequential()"
      ],
      "execution_count": 0,
      "outputs": []
    },
    {
      "cell_type": "code",
      "metadata": {
        "colab_type": "code",
        "id": "GfGk0RgTMBYO",
        "colab": {}
      },
      "source": [
        "model.add(tf.keras.layers.Reshape((784,),input_shape=(28,28,)))"
      ],
      "execution_count": 0,
      "outputs": []
    },
    {
      "cell_type": "code",
      "metadata": {
        "colab_type": "code",
        "id": "lSo43hjsMEvj",
        "colab": {}
      },
      "source": [
        "model.add(tf.keras.layers.Dense(200, activation='sigmoid'))\n",
        "model.add(tf.keras.layers.Dense(100, activation='sigmoid'))\n",
        "model.add(tf.keras.layers.Dense(50, activation='sigmoid'))"
      ],
      "execution_count": 0,
      "outputs": []
    },
    {
      "cell_type": "code",
      "metadata": {
        "colab_type": "code",
        "id": "yAS26F7tMkzq",
        "colab": {}
      },
      "source": [
        "#output layer\n",
        "model.add(tf.keras.layers.Dense(10, activation='softmax'))"
      ],
      "execution_count": 0,
      "outputs": []
    },
    {
      "cell_type": "code",
      "metadata": {
        "colab_type": "code",
        "id": "VUgdC7fWMpJv",
        "colab": {}
      },
      "source": [
        "model.compile(optimizer='sgd', loss='categorical_crossentropy', metrics=['accuracy'])"
      ],
      "execution_count": 0,
      "outputs": []
    },
    {
      "cell_type": "markdown",
      "metadata": {
        "colab_type": "text",
        "id": "3hQpLv3aOIU_"
      },
      "source": [
        "### Execute the model using model.fit()"
      ]
    },
    {
      "cell_type": "code",
      "metadata": {
        "colab_type": "code",
        "id": "O59C_-IgOIVB",
        "outputId": "415af82f-95a5-4435-de51-108ea9673275",
        "colab": {
          "base_uri": "https://localhost:8080/",
          "height": 722
        }
      },
      "source": [
        "#using 20 Epochs as it takes a lot of time to run\n",
        "model.fit(trainX,trainY,validation_data=(testX,testY),epochs=20,batch_size=32)"
      ],
      "execution_count": 0,
      "outputs": [
        {
          "output_type": "stream",
          "text": [
            "Train on 60000 samples, validate on 10000 samples\n",
            "Epoch 1/20\n",
            "60000/60000 [==============================] - 6s 100us/sample - loss: 0.6387 - accuracy: 0.7679 - val_loss: 0.6593 - val_accuracy: 0.7585\n",
            "Epoch 2/20\n",
            "60000/60000 [==============================] - 6s 100us/sample - loss: 0.6376 - accuracy: 0.7707 - val_loss: 0.6609 - val_accuracy: 0.7618\n",
            "Epoch 3/20\n",
            "60000/60000 [==============================] - 6s 100us/sample - loss: 0.6352 - accuracy: 0.7663 - val_loss: 0.6710 - val_accuracy: 0.7530\n",
            "Epoch 4/20\n",
            "60000/60000 [==============================] - 6s 100us/sample - loss: 0.6284 - accuracy: 0.7637 - val_loss: 0.6456 - val_accuracy: 0.7680\n",
            "Epoch 5/20\n",
            "60000/60000 [==============================] - 6s 101us/sample - loss: 0.6407 - accuracy: 0.7603 - val_loss: 0.6592 - val_accuracy: 0.7462\n",
            "Epoch 6/20\n",
            "60000/60000 [==============================] - 6s 99us/sample - loss: 0.6540 - accuracy: 0.7561 - val_loss: 0.7209 - val_accuracy: 0.7328\n",
            "Epoch 7/20\n",
            "60000/60000 [==============================] - 6s 100us/sample - loss: 0.6770 - accuracy: 0.7570 - val_loss: 0.6739 - val_accuracy: 0.7575\n",
            "Epoch 8/20\n",
            "60000/60000 [==============================] - 6s 100us/sample - loss: 0.6479 - accuracy: 0.7674 - val_loss: 0.6624 - val_accuracy: 0.7553\n",
            "Epoch 9/20\n",
            "60000/60000 [==============================] - 6s 100us/sample - loss: 0.6523 - accuracy: 0.7610 - val_loss: 0.6991 - val_accuracy: 0.7374\n",
            "Epoch 10/20\n",
            "60000/60000 [==============================] - 6s 100us/sample - loss: 0.6644 - accuracy: 0.7561 - val_loss: 0.6796 - val_accuracy: 0.7332\n",
            "Epoch 11/20\n",
            "60000/60000 [==============================] - 6s 101us/sample - loss: 0.6601 - accuracy: 0.7508 - val_loss: 0.6770 - val_accuracy: 0.7450\n",
            "Epoch 12/20\n",
            "60000/60000 [==============================] - 6s 100us/sample - loss: 0.6568 - accuracy: 0.7547 - val_loss: 0.6927 - val_accuracy: 0.7581\n",
            "Epoch 13/20\n",
            "60000/60000 [==============================] - 6s 99us/sample - loss: 0.6601 - accuracy: 0.7508 - val_loss: 0.6783 - val_accuracy: 0.7453\n",
            "Epoch 14/20\n",
            "60000/60000 [==============================] - 6s 101us/sample - loss: 0.6746 - accuracy: 0.7475 - val_loss: 0.7066 - val_accuracy: 0.7421\n",
            "Epoch 15/20\n",
            "60000/60000 [==============================] - 6s 99us/sample - loss: 0.6680 - accuracy: 0.7526 - val_loss: 0.7081 - val_accuracy: 0.7399\n",
            "Epoch 16/20\n",
            "60000/60000 [==============================] - 6s 99us/sample - loss: 0.6637 - accuracy: 0.7498 - val_loss: 0.6927 - val_accuracy: 0.7306\n",
            "Epoch 17/20\n",
            "60000/60000 [==============================] - 6s 100us/sample - loss: 0.6632 - accuracy: 0.7526 - val_loss: 0.6873 - val_accuracy: 0.7212\n",
            "Epoch 18/20\n",
            "60000/60000 [==============================] - 6s 101us/sample - loss: 0.6860 - accuracy: 0.7372 - val_loss: 0.7000 - val_accuracy: 0.7316\n",
            "Epoch 19/20\n",
            "60000/60000 [==============================] - 6s 100us/sample - loss: 0.6709 - accuracy: 0.7492 - val_loss: 0.6999 - val_accuracy: 0.7555\n",
            "Epoch 20/20\n",
            "60000/60000 [==============================] - 6s 99us/sample - loss: 0.6686 - accuracy: 0.7527 - val_loss: 0.7180 - val_accuracy: 0.7285\n"
          ],
          "name": "stdout"
        },
        {
          "output_type": "execute_result",
          "data": {
            "text/plain": [
              "<tensorflow.python.keras.callbacks.History at 0x7f2e3b1ce630>"
            ]
          },
          "metadata": {
            "tags": []
          },
          "execution_count": 23
        }
      ]
    },
    {
      "cell_type": "code",
      "metadata": {
        "colab_type": "code",
        "id": "tf3DAJTZPkVZ",
        "outputId": "7212fbb3-08f8-4e02-a34e-fa577b675c22",
        "colab": {
          "base_uri": "https://localhost:8080/",
          "height": 319
        }
      },
      "source": [
        "model.summary()"
      ],
      "execution_count": 0,
      "outputs": [
        {
          "output_type": "stream",
          "text": [
            "Model: \"sequential\"\n",
            "_________________________________________________________________\n",
            "Layer (type)                 Output Shape              Param #   \n",
            "=================================================================\n",
            "reshape (Reshape)            (None, 784)               0         \n",
            "_________________________________________________________________\n",
            "dense (Dense)                (None, 200)               157000    \n",
            "_________________________________________________________________\n",
            "dense_1 (Dense)              (None, 100)               20100     \n",
            "_________________________________________________________________\n",
            "dense_2 (Dense)              (None, 50)                5050      \n",
            "_________________________________________________________________\n",
            "dense_3 (Dense)              (None, 10)                510       \n",
            "=================================================================\n",
            "Total params: 182,660\n",
            "Trainable params: 182,660\n",
            "Non-trainable params: 0\n",
            "_________________________________________________________________\n"
          ],
          "name": "stdout"
        }
      ]
    },
    {
      "cell_type": "markdown",
      "metadata": {
        "colab_type": "text",
        "id": "JdzDtGwDOIVF"
      },
      "source": [
        "### In the above Neural Network model add Batch Normalization layer after the input layer and repeat the steps."
      ]
    },
    {
      "cell_type": "code",
      "metadata": {
        "colab_type": "code",
        "id": "kndfpdidOIVI",
        "colab": {}
      },
      "source": [
        "model1 = tf.keras.models.Sequential()\n",
        "model1.add(tf.keras.layers.Reshape((784,),input_shape=(28,28,)))\n",
        "model1.add(tf.keras.layers.BatchNormalization())\n",
        "model1.add(tf.keras.layers.Dense(200, activation='sigmoid'))\n",
        "model1.add(tf.keras.layers.Dense(100, activation='sigmoid'))\n",
        "model1.add(tf.keras.layers.Dense(50, activation='sigmoid'))\n",
        "model1.add(tf.keras.layers.Dense(10, activation='softmax'))\n",
        "model1.compile(optimizer='sgd', loss='categorical_crossentropy', metrics=['accuracy'])"
      ],
      "execution_count": 0,
      "outputs": []
    },
    {
      "cell_type": "markdown",
      "metadata": {
        "colab_type": "text",
        "id": "mwk3T5LJOIVN"
      },
      "source": [
        "### Execute the model"
      ]
    },
    {
      "cell_type": "code",
      "metadata": {
        "colab_type": "code",
        "id": "JNLR8tcBOIVP",
        "outputId": "2201140e-52d7-4d3c-adc4-213ea2ecb181",
        "colab": {
          "base_uri": "https://localhost:8080/",
          "height": 722
        }
      },
      "source": [
        "model1.fit(trainX,trainY,validation_data=(testX,testY),epochs=20,batch_size=32)"
      ],
      "execution_count": 0,
      "outputs": [
        {
          "output_type": "stream",
          "text": [
            "Train on 60000 samples, validate on 10000 samples\n",
            "Epoch 1/20\n",
            "60000/60000 [==============================] - 9s 147us/sample - loss: 2.1498 - accuracy: 0.3948 - val_loss: 1.8675 - val_accuracy: 0.5720\n",
            "Epoch 2/20\n",
            "60000/60000 [==============================] - 8s 140us/sample - loss: 1.4995 - accuracy: 0.5712 - val_loss: 1.2134 - val_accuracy: 0.6390\n",
            "Epoch 3/20\n",
            "60000/60000 [==============================] - 8s 140us/sample - loss: 1.0833 - accuracy: 0.6680 - val_loss: 0.9472 - val_accuracy: 0.7194\n",
            "Epoch 4/20\n",
            "60000/60000 [==============================] - 8s 139us/sample - loss: 0.8760 - accuracy: 0.7186 - val_loss: 0.7857 - val_accuracy: 0.7405\n",
            "Epoch 5/20\n",
            "60000/60000 [==============================] - 8s 140us/sample - loss: 0.7539 - accuracy: 0.7378 - val_loss: 0.6976 - val_accuracy: 0.7527\n",
            "Epoch 6/20\n",
            "60000/60000 [==============================] - 8s 139us/sample - loss: 0.6842 - accuracy: 0.7552 - val_loss: 0.6432 - val_accuracy: 0.7634\n",
            "Epoch 7/20\n",
            "60000/60000 [==============================] - 8s 139us/sample - loss: 0.6384 - accuracy: 0.7668 - val_loss: 0.6054 - val_accuracy: 0.7792\n",
            "Epoch 8/20\n",
            "60000/60000 [==============================] - 8s 139us/sample - loss: 0.6031 - accuracy: 0.7798 - val_loss: 0.5755 - val_accuracy: 0.7903\n",
            "Epoch 9/20\n",
            "60000/60000 [==============================] - 8s 140us/sample - loss: 0.5759 - accuracy: 0.7910 - val_loss: 0.5512 - val_accuracy: 0.8010\n",
            "Epoch 10/20\n",
            "60000/60000 [==============================] - 8s 140us/sample - loss: 0.5526 - accuracy: 0.8008 - val_loss: 0.5326 - val_accuracy: 0.8101\n",
            "Epoch 11/20\n",
            "60000/60000 [==============================] - 9s 144us/sample - loss: 0.5336 - accuracy: 0.8074 - val_loss: 0.5159 - val_accuracy: 0.8136\n",
            "Epoch 12/20\n",
            "60000/60000 [==============================] - 9s 146us/sample - loss: 0.5165 - accuracy: 0.8155 - val_loss: 0.5032 - val_accuracy: 0.8208\n",
            "Epoch 13/20\n",
            "60000/60000 [==============================] - 8s 138us/sample - loss: 0.5035 - accuracy: 0.8218 - val_loss: 0.4917 - val_accuracy: 0.8226\n",
            "Epoch 14/20\n",
            "60000/60000 [==============================] - 9s 143us/sample - loss: 0.4884 - accuracy: 0.8264 - val_loss: 0.4818 - val_accuracy: 0.8271\n",
            "Epoch 15/20\n",
            "60000/60000 [==============================] - 9s 145us/sample - loss: 0.4792 - accuracy: 0.8292 - val_loss: 0.4724 - val_accuracy: 0.8314\n",
            "Epoch 16/20\n",
            "60000/60000 [==============================] - 8s 140us/sample - loss: 0.4689 - accuracy: 0.8338 - val_loss: 0.4644 - val_accuracy: 0.8338\n",
            "Epoch 17/20\n",
            "60000/60000 [==============================] - 8s 139us/sample - loss: 0.4590 - accuracy: 0.8362 - val_loss: 0.4584 - val_accuracy: 0.8353\n",
            "Epoch 18/20\n",
            "60000/60000 [==============================] - 8s 139us/sample - loss: 0.4506 - accuracy: 0.8388 - val_loss: 0.4501 - val_accuracy: 0.8377\n",
            "Epoch 19/20\n",
            "60000/60000 [==============================] - 8s 138us/sample - loss: 0.4430 - accuracy: 0.8430 - val_loss: 0.4442 - val_accuracy: 0.8404\n",
            "Epoch 20/20\n",
            "60000/60000 [==============================] - 8s 138us/sample - loss: 0.4335 - accuracy: 0.8454 - val_loss: 0.4382 - val_accuracy: 0.8427\n"
          ],
          "name": "stdout"
        },
        {
          "output_type": "execute_result",
          "data": {
            "text/plain": [
              "<tensorflow.python.keras.callbacks.History at 0x7f2e49c5ea58>"
            ]
          },
          "metadata": {
            "tags": []
          },
          "execution_count": 26
        }
      ]
    },
    {
      "cell_type": "code",
      "metadata": {
        "colab_type": "code",
        "id": "u7kRSPxyQBCn",
        "outputId": "f124aa05-cbea-4f9c-91dd-f467e5839a26",
        "colab": {
          "base_uri": "https://localhost:8080/",
          "height": 353
        }
      },
      "source": [
        "model1.summary()"
      ],
      "execution_count": 0,
      "outputs": [
        {
          "output_type": "stream",
          "text": [
            "Model: \"sequential_1\"\n",
            "_________________________________________________________________\n",
            "Layer (type)                 Output Shape              Param #   \n",
            "=================================================================\n",
            "reshape_1 (Reshape)          (None, 784)               0         \n",
            "_________________________________________________________________\n",
            "batch_normalization (BatchNo (None, 784)               3136      \n",
            "_________________________________________________________________\n",
            "dense_4 (Dense)              (None, 200)               157000    \n",
            "_________________________________________________________________\n",
            "dense_5 (Dense)              (None, 100)               20100     \n",
            "_________________________________________________________________\n",
            "dense_6 (Dense)              (None, 50)                5050      \n",
            "_________________________________________________________________\n",
            "dense_7 (Dense)              (None, 10)                510       \n",
            "=================================================================\n",
            "Total params: 185,796\n",
            "Trainable params: 184,228\n",
            "Non-trainable params: 1,568\n",
            "_________________________________________________________________\n"
          ],
          "name": "stdout"
        }
      ]
    },
    {
      "cell_type": "markdown",
      "metadata": {
        "colab_type": "text",
        "id": "Py-KwkmjOIVU"
      },
      "source": [
        "### Customize the learning rate to 0.001 in sgd optimizer and run the model"
      ]
    },
    {
      "cell_type": "code",
      "metadata": {
        "colab_type": "code",
        "id": "yLXUE9jWOIVV",
        "outputId": "b2f5bc98-5961-4f75-a9ae-893fba739183",
        "colab": {
          "base_uri": "https://localhost:8080/",
          "height": 34
        }
      },
      "source": [
        "model2 = tf.keras.models.Sequential()\n",
        "model2.add(tf.keras.layers.Reshape((784,),input_shape=(28,28,)))\n",
        "model2.add(tf.keras.layers.BatchNormalization())\n",
        "model2.add(tf.keras.layers.Dense(200, activation='sigmoid'))\n",
        "model2.add(tf.keras.layers.Dense(100, activation='sigmoid'))\n",
        "model2.add(tf.keras.layers.Dense(50, activation='sigmoid'))\n",
        "model2.add(tf.keras.layers.Dense(10, activation='softmax'))\n",
        "tf.keras.optimizers.SGD(learning_rate=0.001)"
      ],
      "execution_count": 0,
      "outputs": [
        {
          "output_type": "execute_result",
          "data": {
            "text/plain": [
              "<tensorflow.python.keras.optimizer_v2.gradient_descent.SGD at 0x7f2e49b1c9b0>"
            ]
          },
          "metadata": {
            "tags": []
          },
          "execution_count": 28
        }
      ]
    },
    {
      "cell_type": "code",
      "metadata": {
        "colab_type": "code",
        "id": "pJUqA5T4OIVc",
        "colab": {}
      },
      "source": [
        "model2.compile(loss='categorical_crossentropy', optimizer='sgd')"
      ],
      "execution_count": 0,
      "outputs": []
    },
    {
      "cell_type": "code",
      "metadata": {
        "colab_type": "code",
        "id": "KyOLanT2QJM_",
        "outputId": "7db8d6b0-183d-46df-a78f-372535e1ae1c",
        "colab": {
          "base_uri": "https://localhost:8080/",
          "height": 722
        }
      },
      "source": [
        "model2.fit(trainX,trainY,validation_data=(testX,testY),epochs=20,batch_size=32)"
      ],
      "execution_count": 0,
      "outputs": [
        {
          "output_type": "stream",
          "text": [
            "Train on 60000 samples, validate on 10000 samples\n",
            "Epoch 1/20\n",
            "60000/60000 [==============================] - 9s 146us/sample - loss: 2.1302 - val_loss: 1.8282\n",
            "Epoch 2/20\n",
            "60000/60000 [==============================] - 8s 139us/sample - loss: 1.5185 - val_loss: 1.2634\n",
            "Epoch 3/20\n",
            "60000/60000 [==============================] - 8s 140us/sample - loss: 1.1259 - val_loss: 0.9782\n",
            "Epoch 4/20\n",
            "60000/60000 [==============================] - 8s 138us/sample - loss: 0.9005 - val_loss: 0.8050\n",
            "Epoch 5/20\n",
            "60000/60000 [==============================] - 8s 139us/sample - loss: 0.7672 - val_loss: 0.7093\n",
            "Epoch 6/20\n",
            "60000/60000 [==============================] - 8s 140us/sample - loss: 0.6935 - val_loss: 0.6535\n",
            "Epoch 7/20\n",
            "60000/60000 [==============================] - 8s 141us/sample - loss: 0.6457 - val_loss: 0.6146\n",
            "Epoch 8/20\n",
            "60000/60000 [==============================] - 8s 140us/sample - loss: 0.6095 - val_loss: 0.5828\n",
            "Epoch 9/20\n",
            "60000/60000 [==============================] - 8s 141us/sample - loss: 0.5814 - val_loss: 0.5564\n",
            "Epoch 10/20\n",
            "60000/60000 [==============================] - 8s 137us/sample - loss: 0.5567 - val_loss: 0.5361\n",
            "Epoch 11/20\n",
            "60000/60000 [==============================] - 8s 136us/sample - loss: 0.5358 - val_loss: 0.5176\n",
            "Epoch 12/20\n",
            "60000/60000 [==============================] - 8s 139us/sample - loss: 0.5164 - val_loss: 0.5029\n",
            "Epoch 13/20\n",
            "60000/60000 [==============================] - 8s 139us/sample - loss: 0.5029 - val_loss: 0.4900\n",
            "Epoch 14/20\n",
            "60000/60000 [==============================] - 8s 138us/sample - loss: 0.4861 - val_loss: 0.4788\n",
            "Epoch 15/20\n",
            "60000/60000 [==============================] - 8s 138us/sample - loss: 0.4777 - val_loss: 0.4698\n",
            "Epoch 16/20\n",
            "60000/60000 [==============================] - 8s 138us/sample - loss: 0.4657 - val_loss: 0.4611\n",
            "Epoch 17/20\n",
            "60000/60000 [==============================] - 8s 137us/sample - loss: 0.4567 - val_loss: 0.4544\n",
            "Epoch 18/20\n",
            "60000/60000 [==============================] - 8s 137us/sample - loss: 0.4484 - val_loss: 0.4462\n",
            "Epoch 19/20\n",
            "60000/60000 [==============================] - 9s 142us/sample - loss: 0.4395 - val_loss: 0.4414\n",
            "Epoch 20/20\n",
            "60000/60000 [==============================] - 8s 138us/sample - loss: 0.4313 - val_loss: 0.4357\n"
          ],
          "name": "stdout"
        },
        {
          "output_type": "execute_result",
          "data": {
            "text/plain": [
              "<tensorflow.python.keras.callbacks.History at 0x7f2e49a06518>"
            ]
          },
          "metadata": {
            "tags": []
          },
          "execution_count": 30
        }
      ]
    },
    {
      "cell_type": "code",
      "metadata": {
        "colab_type": "code",
        "id": "Bra-D0CKQNiL",
        "colab": {}
      },
      "source": [
        "model2.summary()"
      ],
      "execution_count": 0,
      "outputs": []
    },
    {
      "cell_type": "markdown",
      "metadata": {
        "colab_type": "text",
        "id": "j9CSqKvpOIVk"
      },
      "source": [
        "### Build the Neural Network model with 3 Dense layers with 100,100,10 neurons respectively in each layer. Use cross entropy loss function and singmoid as activation in the hidden layers and softmax as activation function in the output layer. Use sgd optimizer with learning rate 0.03."
      ]
    },
    {
      "cell_type": "code",
      "metadata": {
        "colab_type": "code",
        "id": "GGAad54JOIVm",
        "outputId": "7f89a35d-bb6c-4a34-f98c-3271391365bc",
        "colab": {
          "base_uri": "https://localhost:8080/",
          "height": 34
        }
      },
      "source": [
        "model3 = tf.keras.models.Sequential()\n",
        "model3.add(tf.keras.layers.Reshape((784,),input_shape=(28,28,)))\n",
        "model3.add(tf.keras.layers.BatchNormalization())\n",
        "model3.add(tf.keras.layers.Dense(100, activation='sigmoid'))\n",
        "model3.add(tf.keras.layers.Dense(100, activation='sigmoid'))\n",
        "model3.add(tf.keras.layers.Dense(10, activation='softmax'))\n",
        "tf.keras.optimizers.SGD(learning_rate=0.03)"
      ],
      "execution_count": 0,
      "outputs": [
        {
          "output_type": "execute_result",
          "data": {
            "text/plain": [
              "<tensorflow.python.keras.optimizer_v2.gradient_descent.SGD at 0x7f2e3eac3b38>"
            ]
          },
          "metadata": {
            "tags": []
          },
          "execution_count": 32
        }
      ]
    },
    {
      "cell_type": "code",
      "metadata": {
        "colab_type": "code",
        "id": "MQ7oIymROIVp",
        "colab": {}
      },
      "source": [
        "model3.compile(loss='categorical_crossentropy', optimizer='sgd')"
      ],
      "execution_count": 0,
      "outputs": []
    },
    {
      "cell_type": "markdown",
      "metadata": {
        "colab_type": "text",
        "id": "Nr2YsZV0OIV0"
      },
      "source": [
        "## Review model"
      ]
    },
    {
      "cell_type": "code",
      "metadata": {
        "colab_type": "code",
        "id": "h4ojW6-oOIV2",
        "outputId": "25054029-9e47-4203-b2fe-cb878e49dd41",
        "colab": {
          "base_uri": "https://localhost:8080/",
          "height": 319
        }
      },
      "source": [
        "model3.summary()"
      ],
      "execution_count": 0,
      "outputs": [
        {
          "output_type": "stream",
          "text": [
            "Model: \"sequential_4\"\n",
            "_________________________________________________________________\n",
            "Layer (type)                 Output Shape              Param #   \n",
            "=================================================================\n",
            "reshape_4 (Reshape)          (None, 784)               0         \n",
            "_________________________________________________________________\n",
            "batch_normalization_3 (Batch (None, 784)               3136      \n",
            "_________________________________________________________________\n",
            "dense_15 (Dense)             (None, 100)               78500     \n",
            "_________________________________________________________________\n",
            "dense_16 (Dense)             (None, 100)               10100     \n",
            "_________________________________________________________________\n",
            "dense_17 (Dense)             (None, 10)                1010      \n",
            "=================================================================\n",
            "Total params: 92,746\n",
            "Trainable params: 91,178\n",
            "Non-trainable params: 1,568\n",
            "_________________________________________________________________\n"
          ],
          "name": "stdout"
        }
      ]
    },
    {
      "cell_type": "markdown",
      "metadata": {
        "colab_type": "text",
        "id": "gfFGmbZLOIV5"
      },
      "source": [
        "### Run the model"
      ]
    },
    {
      "cell_type": "code",
      "metadata": {
        "colab_type": "code",
        "id": "bIkbMEN5OIV7",
        "outputId": "81b38ab3-8324-41d2-ecb1-1d4c3ef1c4db",
        "colab": {
          "base_uri": "https://localhost:8080/",
          "height": 722
        }
      },
      "source": [
        "model1.fit(trainX,trainY,validation_data=(testX,testY),epochs=20,batch_size=32) "
      ],
      "execution_count": 0,
      "outputs": [
        {
          "output_type": "stream",
          "text": [
            "Train on 60000 samples, validate on 10000 samples\n",
            "Epoch 1/20\n",
            "60000/60000 [==============================] - 9s 143us/sample - loss: 0.4275 - accuracy: 0.8476 - val_loss: 0.4330 - val_accuracy: 0.8429\n",
            "Epoch 2/20\n",
            "60000/60000 [==============================] - 8s 141us/sample - loss: 0.4219 - accuracy: 0.8495 - val_loss: 0.4292 - val_accuracy: 0.8469\n",
            "Epoch 3/20\n",
            "60000/60000 [==============================] - 8s 139us/sample - loss: 0.4140 - accuracy: 0.8522 - val_loss: 0.4229 - val_accuracy: 0.8465\n",
            "Epoch 4/20\n",
            "60000/60000 [==============================] - 8s 139us/sample - loss: 0.4102 - accuracy: 0.8529 - val_loss: 0.4198 - val_accuracy: 0.8487\n",
            "Epoch 5/20\n",
            "60000/60000 [==============================] - 8s 139us/sample - loss: 0.4030 - accuracy: 0.8563 - val_loss: 0.4166 - val_accuracy: 0.8497\n",
            "Epoch 6/20\n",
            "60000/60000 [==============================] - 8s 141us/sample - loss: 0.3992 - accuracy: 0.8591 - val_loss: 0.4087 - val_accuracy: 0.8514\n",
            "Epoch 7/20\n",
            "60000/60000 [==============================] - 8s 139us/sample - loss: 0.3925 - accuracy: 0.8598 - val_loss: 0.4061 - val_accuracy: 0.8508\n",
            "Epoch 8/20\n",
            "60000/60000 [==============================] - 8s 139us/sample - loss: 0.3857 - accuracy: 0.8640 - val_loss: 0.4009 - val_accuracy: 0.8536\n",
            "Epoch 9/20\n",
            "60000/60000 [==============================] - 8s 140us/sample - loss: 0.3821 - accuracy: 0.8640 - val_loss: 0.3976 - val_accuracy: 0.8530\n",
            "Epoch 10/20\n",
            "60000/60000 [==============================] - 8s 137us/sample - loss: 0.3777 - accuracy: 0.8647 - val_loss: 0.3952 - val_accuracy: 0.8541\n",
            "Epoch 11/20\n",
            "60000/60000 [==============================] - 8s 139us/sample - loss: 0.3731 - accuracy: 0.8674 - val_loss: 0.3903 - val_accuracy: 0.8571\n",
            "Epoch 12/20\n",
            "60000/60000 [==============================] - 8s 137us/sample - loss: 0.3686 - accuracy: 0.8687 - val_loss: 0.3874 - val_accuracy: 0.8594\n",
            "Epoch 13/20\n",
            "60000/60000 [==============================] - 8s 135us/sample - loss: 0.3654 - accuracy: 0.8690 - val_loss: 0.3859 - val_accuracy: 0.8583\n",
            "Epoch 14/20\n",
            "60000/60000 [==============================] - 8s 137us/sample - loss: 0.3592 - accuracy: 0.8705 - val_loss: 0.3818 - val_accuracy: 0.8593\n",
            "Epoch 15/20\n",
            "60000/60000 [==============================] - 9s 143us/sample - loss: 0.3573 - accuracy: 0.8716 - val_loss: 0.3795 - val_accuracy: 0.8604\n",
            "Epoch 16/20\n",
            "60000/60000 [==============================] - 8s 139us/sample - loss: 0.3524 - accuracy: 0.8733 - val_loss: 0.3749 - val_accuracy: 0.8601\n",
            "Epoch 17/20\n",
            "60000/60000 [==============================] - 8s 137us/sample - loss: 0.3476 - accuracy: 0.8759 - val_loss: 0.3721 - val_accuracy: 0.8623\n",
            "Epoch 18/20\n",
            "60000/60000 [==============================] - 8s 139us/sample - loss: 0.3447 - accuracy: 0.8747 - val_loss: 0.3691 - val_accuracy: 0.8648\n",
            "Epoch 19/20\n",
            "60000/60000 [==============================] - 8s 140us/sample - loss: 0.3391 - accuracy: 0.8792 - val_loss: 0.3679 - val_accuracy: 0.8661\n",
            "Epoch 20/20\n",
            "60000/60000 [==============================] - 8s 140us/sample - loss: 0.3352 - accuracy: 0.8796 - val_loss: 0.3664 - val_accuracy: 0.8641\n"
          ],
          "name": "stdout"
        },
        {
          "output_type": "execute_result",
          "data": {
            "text/plain": [
              "<tensorflow.python.keras.callbacks.History at 0x7f2e3ea15f98>"
            ]
          },
          "metadata": {
            "tags": []
          },
          "execution_count": 35
        }
      ]
    }
  ]
}